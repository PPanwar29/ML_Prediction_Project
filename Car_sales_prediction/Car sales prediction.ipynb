{
 "cells": [
  {
   "cell_type": "code",
   "execution_count": 1,
   "id": "4c83c715",
   "metadata": {},
   "outputs": [],
   "source": [
    "import numpy as np\n",
    "import pandas as pd\n",
    "import matplotlib.pyplot as plt\n",
    "import os\n",
    "import seaborn as sns"
   ]
  },
  {
   "cell_type": "code",
   "execution_count": 2,
   "id": "3242dd54",
   "metadata": {},
   "outputs": [
    {
     "data": {
      "text/html": [
       "<div>\n",
       "<style scoped>\n",
       "    .dataframe tbody tr th:only-of-type {\n",
       "        vertical-align: middle;\n",
       "    }\n",
       "\n",
       "    .dataframe tbody tr th {\n",
       "        vertical-align: top;\n",
       "    }\n",
       "\n",
       "    .dataframe thead th {\n",
       "        text-align: right;\n",
       "    }\n",
       "</style>\n",
       "<table border=\"1\" class=\"dataframe\">\n",
       "  <thead>\n",
       "    <tr style=\"text-align: right;\">\n",
       "      <th></th>\n",
       "      <th>model</th>\n",
       "      <th>year</th>\n",
       "      <th>price</th>\n",
       "      <th>transmission</th>\n",
       "      <th>mileage</th>\n",
       "      <th>fuelType</th>\n",
       "      <th>tax</th>\n",
       "      <th>mpg</th>\n",
       "      <th>engineSize</th>\n",
       "    </tr>\n",
       "  </thead>\n",
       "  <tbody>\n",
       "    <tr>\n",
       "      <th>0</th>\n",
       "      <td>A1</td>\n",
       "      <td>2017</td>\n",
       "      <td>12500</td>\n",
       "      <td>Manual</td>\n",
       "      <td>15735</td>\n",
       "      <td>Petrol</td>\n",
       "      <td>150</td>\n",
       "      <td>55.4</td>\n",
       "      <td>1.4</td>\n",
       "    </tr>\n",
       "    <tr>\n",
       "      <th>1</th>\n",
       "      <td>A6</td>\n",
       "      <td>2016</td>\n",
       "      <td>16500</td>\n",
       "      <td>Automatic</td>\n",
       "      <td>36203</td>\n",
       "      <td>Diesel</td>\n",
       "      <td>20</td>\n",
       "      <td>64.2</td>\n",
       "      <td>2.0</td>\n",
       "    </tr>\n",
       "    <tr>\n",
       "      <th>2</th>\n",
       "      <td>A1</td>\n",
       "      <td>2016</td>\n",
       "      <td>11000</td>\n",
       "      <td>Manual</td>\n",
       "      <td>29946</td>\n",
       "      <td>Petrol</td>\n",
       "      <td>30</td>\n",
       "      <td>55.4</td>\n",
       "      <td>1.4</td>\n",
       "    </tr>\n",
       "    <tr>\n",
       "      <th>3</th>\n",
       "      <td>A4</td>\n",
       "      <td>2017</td>\n",
       "      <td>16800</td>\n",
       "      <td>Automatic</td>\n",
       "      <td>25952</td>\n",
       "      <td>Diesel</td>\n",
       "      <td>145</td>\n",
       "      <td>67.3</td>\n",
       "      <td>2.0</td>\n",
       "    </tr>\n",
       "    <tr>\n",
       "      <th>4</th>\n",
       "      <td>A3</td>\n",
       "      <td>2019</td>\n",
       "      <td>17300</td>\n",
       "      <td>Manual</td>\n",
       "      <td>1998</td>\n",
       "      <td>Petrol</td>\n",
       "      <td>145</td>\n",
       "      <td>49.6</td>\n",
       "      <td>1.0</td>\n",
       "    </tr>\n",
       "    <tr>\n",
       "      <th>...</th>\n",
       "      <td>...</td>\n",
       "      <td>...</td>\n",
       "      <td>...</td>\n",
       "      <td>...</td>\n",
       "      <td>...</td>\n",
       "      <td>...</td>\n",
       "      <td>...</td>\n",
       "      <td>...</td>\n",
       "      <td>...</td>\n",
       "    </tr>\n",
       "    <tr>\n",
       "      <th>10663</th>\n",
       "      <td>A3</td>\n",
       "      <td>2020</td>\n",
       "      <td>16999</td>\n",
       "      <td>Manual</td>\n",
       "      <td>4018</td>\n",
       "      <td>Petrol</td>\n",
       "      <td>145</td>\n",
       "      <td>49.6</td>\n",
       "      <td>1.0</td>\n",
       "    </tr>\n",
       "    <tr>\n",
       "      <th>10664</th>\n",
       "      <td>A3</td>\n",
       "      <td>2020</td>\n",
       "      <td>16999</td>\n",
       "      <td>Manual</td>\n",
       "      <td>1978</td>\n",
       "      <td>Petrol</td>\n",
       "      <td>150</td>\n",
       "      <td>49.6</td>\n",
       "      <td>1.0</td>\n",
       "    </tr>\n",
       "    <tr>\n",
       "      <th>10665</th>\n",
       "      <td>A3</td>\n",
       "      <td>2020</td>\n",
       "      <td>17199</td>\n",
       "      <td>Manual</td>\n",
       "      <td>609</td>\n",
       "      <td>Petrol</td>\n",
       "      <td>150</td>\n",
       "      <td>49.6</td>\n",
       "      <td>1.0</td>\n",
       "    </tr>\n",
       "    <tr>\n",
       "      <th>10666</th>\n",
       "      <td>Q3</td>\n",
       "      <td>2017</td>\n",
       "      <td>19499</td>\n",
       "      <td>Automatic</td>\n",
       "      <td>8646</td>\n",
       "      <td>Petrol</td>\n",
       "      <td>150</td>\n",
       "      <td>47.9</td>\n",
       "      <td>1.4</td>\n",
       "    </tr>\n",
       "    <tr>\n",
       "      <th>10667</th>\n",
       "      <td>Q3</td>\n",
       "      <td>2016</td>\n",
       "      <td>15999</td>\n",
       "      <td>Manual</td>\n",
       "      <td>11855</td>\n",
       "      <td>Petrol</td>\n",
       "      <td>150</td>\n",
       "      <td>47.9</td>\n",
       "      <td>1.4</td>\n",
       "    </tr>\n",
       "  </tbody>\n",
       "</table>\n",
       "<p>10668 rows × 9 columns</p>\n",
       "</div>"
      ],
      "text/plain": [
       "      model  year  price transmission  mileage fuelType  tax   mpg  engineSize\n",
       "0        A1  2017  12500       Manual    15735   Petrol  150  55.4         1.4\n",
       "1        A6  2016  16500    Automatic    36203   Diesel   20  64.2         2.0\n",
       "2        A1  2016  11000       Manual    29946   Petrol   30  55.4         1.4\n",
       "3        A4  2017  16800    Automatic    25952   Diesel  145  67.3         2.0\n",
       "4        A3  2019  17300       Manual     1998   Petrol  145  49.6         1.0\n",
       "...     ...   ...    ...          ...      ...      ...  ...   ...         ...\n",
       "10663    A3  2020  16999       Manual     4018   Petrol  145  49.6         1.0\n",
       "10664    A3  2020  16999       Manual     1978   Petrol  150  49.6         1.0\n",
       "10665    A3  2020  17199       Manual      609   Petrol  150  49.6         1.0\n",
       "10666    Q3  2017  19499    Automatic     8646   Petrol  150  47.9         1.4\n",
       "10667    Q3  2016  15999       Manual    11855   Petrol  150  47.9         1.4\n",
       "\n",
       "[10668 rows x 9 columns]"
      ]
     },
     "metadata": {},
     "output_type": "display_data"
    }
   ],
   "source": [
    "df=pd.read_csv(\"audi.csv\")\n",
    "display(df)\n"
   ]
  },
  {
   "cell_type": "code",
   "execution_count": 3,
   "id": "60767972",
   "metadata": {},
   "outputs": [
    {
     "data": {
      "text/plain": [
       "(10668, 9)"
      ]
     },
     "metadata": {},
     "output_type": "display_data"
    }
   ],
   "source": [
    "display(df.shape)"
   ]
  },
  {
   "cell_type": "code",
   "execution_count": 4,
   "id": "a7b8bcfa",
   "metadata": {},
   "outputs": [
    {
     "name": "stdout",
     "output_type": "stream",
     "text": [
      "<class 'pandas.core.frame.DataFrame'>\n",
      "RangeIndex: 10668 entries, 0 to 10667\n",
      "Data columns (total 9 columns):\n",
      " #   Column        Non-Null Count  Dtype  \n",
      "---  ------        --------------  -----  \n",
      " 0   model         10668 non-null  object \n",
      " 1   year          10668 non-null  int64  \n",
      " 2   price         10668 non-null  int64  \n",
      " 3   transmission  10668 non-null  object \n",
      " 4   mileage       10668 non-null  int64  \n",
      " 5   fuelType      10668 non-null  object \n",
      " 6   tax           10668 non-null  int64  \n",
      " 7   mpg           10668 non-null  float64\n",
      " 8   engineSize    10668 non-null  float64\n",
      "dtypes: float64(2), int64(4), object(3)\n",
      "memory usage: 750.2+ KB\n",
      "None\n"
     ]
    }
   ],
   "source": [
    "print (df.info())"
   ]
  },
  {
   "cell_type": "code",
   "execution_count": 5,
   "id": "c5cc96d7",
   "metadata": {},
   "outputs": [
    {
     "data": {
      "text/plain": [
       "model           0\n",
       "year            0\n",
       "price           0\n",
       "transmission    0\n",
       "mileage         0\n",
       "fuelType        0\n",
       "tax             0\n",
       "mpg             0\n",
       "engineSize      0\n",
       "dtype: int64"
      ]
     },
     "metadata": {},
     "output_type": "display_data"
    }
   ],
   "source": [
    "display (df.isna().sum() )"
   ]
  },
  {
   "cell_type": "code",
   "execution_count": 6,
   "id": "be9de78d",
   "metadata": {},
   "outputs": [
    {
     "data": {
      "text/html": [
       "<div>\n",
       "<style scoped>\n",
       "    .dataframe tbody tr th:only-of-type {\n",
       "        vertical-align: middle;\n",
       "    }\n",
       "\n",
       "    .dataframe tbody tr th {\n",
       "        vertical-align: top;\n",
       "    }\n",
       "\n",
       "    .dataframe thead th {\n",
       "        text-align: right;\n",
       "    }\n",
       "</style>\n",
       "<table border=\"1\" class=\"dataframe\">\n",
       "  <thead>\n",
       "    <tr style=\"text-align: right;\">\n",
       "      <th></th>\n",
       "      <th>year</th>\n",
       "      <th>price</th>\n",
       "      <th>mileage</th>\n",
       "      <th>tax</th>\n",
       "      <th>mpg</th>\n",
       "      <th>engineSize</th>\n",
       "    </tr>\n",
       "  </thead>\n",
       "  <tbody>\n",
       "    <tr>\n",
       "      <th>count</th>\n",
       "      <td>10668.000000</td>\n",
       "      <td>10668.000000</td>\n",
       "      <td>10668.000000</td>\n",
       "      <td>10668.000000</td>\n",
       "      <td>10668.000000</td>\n",
       "      <td>10668.000000</td>\n",
       "    </tr>\n",
       "    <tr>\n",
       "      <th>mean</th>\n",
       "      <td>2017.100675</td>\n",
       "      <td>22896.685039</td>\n",
       "      <td>24827.244001</td>\n",
       "      <td>126.011436</td>\n",
       "      <td>50.770022</td>\n",
       "      <td>1.930709</td>\n",
       "    </tr>\n",
       "    <tr>\n",
       "      <th>std</th>\n",
       "      <td>2.167494</td>\n",
       "      <td>11714.841888</td>\n",
       "      <td>23505.257205</td>\n",
       "      <td>67.170294</td>\n",
       "      <td>12.949782</td>\n",
       "      <td>0.602957</td>\n",
       "    </tr>\n",
       "    <tr>\n",
       "      <th>min</th>\n",
       "      <td>1997.000000</td>\n",
       "      <td>1490.000000</td>\n",
       "      <td>1.000000</td>\n",
       "      <td>0.000000</td>\n",
       "      <td>18.900000</td>\n",
       "      <td>0.000000</td>\n",
       "    </tr>\n",
       "    <tr>\n",
       "      <th>25%</th>\n",
       "      <td>2016.000000</td>\n",
       "      <td>15130.750000</td>\n",
       "      <td>5968.750000</td>\n",
       "      <td>125.000000</td>\n",
       "      <td>40.900000</td>\n",
       "      <td>1.500000</td>\n",
       "    </tr>\n",
       "    <tr>\n",
       "      <th>50%</th>\n",
       "      <td>2017.000000</td>\n",
       "      <td>20200.000000</td>\n",
       "      <td>19000.000000</td>\n",
       "      <td>145.000000</td>\n",
       "      <td>49.600000</td>\n",
       "      <td>2.000000</td>\n",
       "    </tr>\n",
       "    <tr>\n",
       "      <th>75%</th>\n",
       "      <td>2019.000000</td>\n",
       "      <td>27990.000000</td>\n",
       "      <td>36464.500000</td>\n",
       "      <td>145.000000</td>\n",
       "      <td>58.900000</td>\n",
       "      <td>2.000000</td>\n",
       "    </tr>\n",
       "    <tr>\n",
       "      <th>max</th>\n",
       "      <td>2020.000000</td>\n",
       "      <td>145000.000000</td>\n",
       "      <td>323000.000000</td>\n",
       "      <td>580.000000</td>\n",
       "      <td>188.300000</td>\n",
       "      <td>6.300000</td>\n",
       "    </tr>\n",
       "  </tbody>\n",
       "</table>\n",
       "</div>"
      ],
      "text/plain": [
       "               year          price        mileage           tax           mpg  \\\n",
       "count  10668.000000   10668.000000   10668.000000  10668.000000  10668.000000   \n",
       "mean    2017.100675   22896.685039   24827.244001    126.011436     50.770022   \n",
       "std        2.167494   11714.841888   23505.257205     67.170294     12.949782   \n",
       "min     1997.000000    1490.000000       1.000000      0.000000     18.900000   \n",
       "25%     2016.000000   15130.750000    5968.750000    125.000000     40.900000   \n",
       "50%     2017.000000   20200.000000   19000.000000    145.000000     49.600000   \n",
       "75%     2019.000000   27990.000000   36464.500000    145.000000     58.900000   \n",
       "max     2020.000000  145000.000000  323000.000000    580.000000    188.300000   \n",
       "\n",
       "         engineSize  \n",
       "count  10668.000000  \n",
       "mean       1.930709  \n",
       "std        0.602957  \n",
       "min        0.000000  \n",
       "25%        1.500000  \n",
       "50%        2.000000  \n",
       "75%        2.000000  \n",
       "max        6.300000  "
      ]
     },
     "metadata": {},
     "output_type": "display_data"
    }
   ],
   "source": [
    "display (df.describe ())"
   ]
  },
  {
   "cell_type": "code",
   "execution_count": 7,
   "id": "e1a0c85e",
   "metadata": {},
   "outputs": [
    {
     "data": {
      "image/png": "[encoded data removed]",
      "text/plain": [
       "<Figure size 864x576 with 6 Axes>"
      ]
     },
     "metadata": {
      "needs_background": "light"
     },
     "output_type": "display_data"
    }
   ],
   "source": [
    "numerical_columns = ['year', 'price', 'mileage', 'tax', 'mpg', 'engineSize']\n",
    "\n",
    "plt.figure(figsize=(12, 8))\n",
    "\n",
    "for i, column in enumerate(numerical_columns, 1):\n",
    "    plt.subplot(2, 3, i)\n",
    "    sns.boxplot(data=df[column])\n",
    "    plt.title(f'Boxplot of {column}')\n",
    "    plt.tight_layout()\n",
    "\n",
    "plt.show()"
   ]
  },
  {
   "cell_type": "code",
   "execution_count": 8,
   "id": "b9ffebc8",
   "metadata": {},
   "outputs": [
    {
     "data": {
      "image/png": "[encoded data removed]",
      "text/plain": [
       "<Figure size 1296x864 with 6 Axes>"
      ]
     },
     "metadata": {
      "needs_background": "light"
     },
     "output_type": "display_data"
    }
   ],
   "source": [
    "import seaborn as sns\n",
    "import matplotlib.pyplot as plt\n",
    "\n",
    "fig, axes = plt.subplots(2, 3, figsize=(18, 12))\n",
    "\n",
    "# List of numerical columns to plot\n",
    "numerical_columns = ['year', 'price', 'mileage', 'tax', 'mpg', 'engineSize']\n",
    "\n",
    "# Plotting distribution plots for each numerical column in subplots\n",
    "for idx, col in enumerate(numerical_columns):\n",
    "    row, col_idx = divmod(idx, 3)\n",
    "    sns.histplot(df[col], kde=True, ax=axes[row, col_idx])\n",
    "    axes[row, col_idx].set_title(f'Distribution Plot of {col}')\n",
    "    axes[row, col_idx].set_xlabel(col)\n",
    "    axes[row, col_idx].set_ylabel('Frequency')\n",
    "\n",
    "# Adjust layout\n",
    "plt.tight_layout()\n",
    "plt.show()\n"
   ]
  },
  {
   "cell_type": "code",
   "execution_count": 9,
   "id": "efb7e801",
   "metadata": {},
   "outputs": [],
   "source": [
    "#Outlier can't be removed directly as they are due to change in time"
   ]
  },
  {
   "cell_type": "code",
   "execution_count": 64,
   "id": "41db1a0d",
   "metadata": {},
   "outputs": [
    {
     "data": {
      "image/png": "[encoded data removed]",
      "text/plain": [
       "<Figure size 720x432 with 1 Axes>"
      ]
     },
     "metadata": {},
     "output_type": "display_data"
    },
    {
     "data": {
      "image/png": "[encoded data removed]",
      "text/plain": [
       "<Figure size 1080x1080 with 9 Axes>"
      ]
     },
     "metadata": {},
     "output_type": "display_data"
    }
   ],
   "source": [
    "import matplotlib.pyplot as plt\n",
    "import seaborn as sns\n",
    "\n",
    "# Remove the \"model\" column from the DataFrame\n",
    "df_without_model = df.drop(columns=[\"model\"])\n",
    "\n",
    "# Plot the \"model\" column separately\n",
    "plt.figure(figsize=(10, 6))\n",
    "sns.histplot(data=df, x=\"model\")\n",
    "plt.title(\"Model\")\n",
    "plt.show()\n",
    "\n",
    "# Plot the other columns in a subplot grid\n",
    "sns.set(style=\"whitegrid\")\n",
    "num_cols = 3\n",
    "num_rows = (len(df_without_model.columns) - 1) // num_cols + 1\n",
    "fig, axes = plt.subplots(num_rows, num_cols, figsize=(15, num_rows * 5))\n",
    "\n",
    "for i, col in enumerate(df_without_model.columns):\n",
    "    if col != \"model\":\n",
    "        sns.histplot(data=df, x=col, ax=axes[i // num_cols, i % num_cols])\n",
    "        axes[i // num_cols, i % num_cols].set_title(col)\n",
    "\n",
    "plt.tight_layout()\n",
    "plt.show()\n"
   ]
  },
  {
   "cell_type": "code",
   "execution_count": 10,
   "id": "8ddb03c5",
   "metadata": {},
   "outputs": [],
   "source": [
    "df['fuelType'] = df['fuelType'].replace('Hybrid', 'Petrol')"
   ]
  },
  {
   "cell_type": "code",
   "execution_count": 11,
   "id": "0a2762a0",
   "metadata": {},
   "outputs": [
    {
     "data": {
      "text/plain": [
       "(10668, 8)"
      ]
     },
     "metadata": {},
     "output_type": "display_data"
    },
    {
     "data": {
      "text/plain": [
       "array([[' A1', 2017, 'Manual', ..., 150, 55.4, 1.4],\n",
       "       [' A6', 2016, 'Automatic', ..., 20, 64.2, 2.0],\n",
       "       [' A1', 2016, 'Manual', ..., 30, 55.4, 1.4],\n",
       "       ...,\n",
       "       [' A3', 2020, 'Manual', ..., 150, 49.6, 1.0],\n",
       "       [' Q3', 2017, 'Automatic', ..., 150, 47.9, 1.4],\n",
       "       [' Q3', 2016, 'Manual', ..., 150, 47.9, 1.4]], dtype=object)"
      ]
     },
     "execution_count": 11,
     "metadata": {},
     "output_type": "execute_result"
    }
   ],
   "source": [
    "#Spliting the data\n",
    "X = df.iloc[:,[0,1,3,4,5,6,7,8]].values\n",
    "display (X.shape)\n",
    "X"
   ]
  },
  {
   "cell_type": "code",
   "execution_count": 12,
   "id": "41f18b83",
   "metadata": {},
   "outputs": [
    {
     "data": {
      "text/plain": [
       "(10668, 1)"
      ]
     },
     "metadata": {},
     "output_type": "display_data"
    }
   ],
   "source": [
    "Y = df.iloc[:,[2]].values\n",
    "display (Y.shape)"
   ]
  },
  {
   "cell_type": "code",
   "execution_count": 13,
   "id": "effee70c",
   "metadata": {},
   "outputs": [
    {
     "data": {
      "text/plain": [
       "(10668, 33)"
      ]
     },
     "metadata": {},
     "output_type": "display_data"
    },
    {
     "data": {
      "text/html": [
       "<div>\n",
       "<style scoped>\n",
       "    .dataframe tbody tr th:only-of-type {\n",
       "        vertical-align: middle;\n",
       "    }\n",
       "\n",
       "    .dataframe tbody tr th {\n",
       "        vertical-align: top;\n",
       "    }\n",
       "\n",
       "    .dataframe thead th {\n",
       "        text-align: right;\n",
       "    }\n",
       "</style>\n",
       "<table border=\"1\" class=\"dataframe\">\n",
       "  <thead>\n",
       "    <tr style=\"text-align: right;\">\n",
       "      <th></th>\n",
       "      <th>0</th>\n",
       "    </tr>\n",
       "  </thead>\n",
       "  <tbody>\n",
       "    <tr>\n",
       "      <th>0</th>\n",
       "      <td>(0, 25)\\t1.0\\n  (0, 27)\\t1.0\\n  (0, 28)\\t201...</td>\n",
       "    </tr>\n",
       "    <tr>\n",
       "      <th>1</th>\n",
       "      <td>(0, 4)\\t1.0\\n  (0, 28)\\t2016.0\\n  (0, 29)\\t3...</td>\n",
       "    </tr>\n",
       "    <tr>\n",
       "      <th>2</th>\n",
       "      <td>(0, 25)\\t1.0\\n  (0, 27)\\t1.0\\n  (0, 28)\\t201...</td>\n",
       "    </tr>\n",
       "    <tr>\n",
       "      <th>3</th>\n",
       "      <td>(0, 2)\\t1.0\\n  (0, 28)\\t2017.0\\n  (0, 29)\\t2...</td>\n",
       "    </tr>\n",
       "    <tr>\n",
       "      <th>4</th>\n",
       "      <td>(0, 1)\\t1.0\\n  (0, 25)\\t1.0\\n  (0, 27)\\t1.0\\...</td>\n",
       "    </tr>\n",
       "    <tr>\n",
       "      <th>...</th>\n",
       "      <td>...</td>\n",
       "    </tr>\n",
       "    <tr>\n",
       "      <th>10663</th>\n",
       "      <td>(0, 1)\\t1.0\\n  (0, 25)\\t1.0\\n  (0, 27)\\t1.0\\...</td>\n",
       "    </tr>\n",
       "    <tr>\n",
       "      <th>10664</th>\n",
       "      <td>(0, 1)\\t1.0\\n  (0, 25)\\t1.0\\n  (0, 27)\\t1.0\\...</td>\n",
       "    </tr>\n",
       "    <tr>\n",
       "      <th>10665</th>\n",
       "      <td>(0, 1)\\t1.0\\n  (0, 25)\\t1.0\\n  (0, 27)\\t1.0\\...</td>\n",
       "    </tr>\n",
       "    <tr>\n",
       "      <th>10666</th>\n",
       "      <td>(0, 8)\\t1.0\\n  (0, 27)\\t1.0\\n  (0, 28)\\t2017...</td>\n",
       "    </tr>\n",
       "    <tr>\n",
       "      <th>10667</th>\n",
       "      <td>(0, 8)\\t1.0\\n  (0, 25)\\t1.0\\n  (0, 27)\\t1.0\\...</td>\n",
       "    </tr>\n",
       "  </tbody>\n",
       "</table>\n",
       "<p>10668 rows × 1 columns</p>\n",
       "</div>"
      ],
      "text/plain": [
       "                                                       0\n",
       "0        (0, 25)\\t1.0\\n  (0, 27)\\t1.0\\n  (0, 28)\\t201...\n",
       "1        (0, 4)\\t1.0\\n  (0, 28)\\t2016.0\\n  (0, 29)\\t3...\n",
       "2        (0, 25)\\t1.0\\n  (0, 27)\\t1.0\\n  (0, 28)\\t201...\n",
       "3        (0, 2)\\t1.0\\n  (0, 28)\\t2017.0\\n  (0, 29)\\t2...\n",
       "4        (0, 1)\\t1.0\\n  (0, 25)\\t1.0\\n  (0, 27)\\t1.0\\...\n",
       "...                                                  ...\n",
       "10663    (0, 1)\\t1.0\\n  (0, 25)\\t1.0\\n  (0, 27)\\t1.0\\...\n",
       "10664    (0, 1)\\t1.0\\n  (0, 25)\\t1.0\\n  (0, 27)\\t1.0\\...\n",
       "10665    (0, 1)\\t1.0\\n  (0, 25)\\t1.0\\n  (0, 27)\\t1.0\\...\n",
       "10666    (0, 8)\\t1.0\\n  (0, 27)\\t1.0\\n  (0, 28)\\t2017...\n",
       "10667    (0, 8)\\t1.0\\n  (0, 25)\\t1.0\\n  (0, 27)\\t1.0\\...\n",
       "\n",
       "[10668 rows x 1 columns]"
      ]
     },
     "metadata": {},
     "output_type": "display_data"
    }
   ],
   "source": [
    "#OneHotEncoding\n",
    "from sklearn.preprocessing import OneHotEncoder\n",
    "from sklearn.compose import ColumnTransformer\n",
    "ct = ColumnTransformer(transformers = [('encoder',OneHotEncoder(drop='first'),[0,2,4])],remainder='passthrough')\n",
    "X = ct.fit_transform(X)\n",
    "display (X.shape)\n",
    "display (pd.DataFrame(X))\n"
   ]
  },
  {
   "cell_type": "code",
   "execution_count": 14,
   "id": "7264f683",
   "metadata": {},
   "outputs": [
    {
     "name": "stdout",
     "output_type": "stream",
     "text": [
      "    0    1    2    3    4    5    6    7    8    9   ...   23   24   25   26  \\\n",
      "0  0.0  0.0  0.0  0.0  0.0  0.0  0.0  0.0  0.0  0.0  ...  0.0  0.0  1.0  0.0   \n",
      "1  0.0  0.0  0.0  0.0  1.0  0.0  0.0  0.0  0.0  0.0  ...  0.0  0.0  0.0  0.0   \n",
      "2  0.0  0.0  0.0  0.0  0.0  0.0  0.0  0.0  0.0  0.0  ...  0.0  0.0  1.0  0.0   \n",
      "3  0.0  0.0  1.0  0.0  0.0  0.0  0.0  0.0  0.0  0.0  ...  0.0  0.0  0.0  0.0   \n",
      "4  0.0  1.0  0.0  0.0  0.0  0.0  0.0  0.0  0.0  0.0  ...  0.0  0.0  1.0  0.0   \n",
      "\n",
      "    27      28       29     30    31   32  \n",
      "0  1.0  2017.0  15735.0  150.0  55.4  1.4  \n",
      "1  0.0  2016.0  36203.0   20.0  64.2  2.0  \n",
      "2  1.0  2016.0  29946.0   30.0  55.4  1.4  \n",
      "3  0.0  2017.0  25952.0  145.0  67.3  2.0  \n",
      "4  1.0  2019.0   1998.0  145.0  49.6  1.0  \n",
      "\n",
      "[5 rows x 33 columns]\n"
     ]
    }
   ],
   "source": [
    "import pandas as pd\n",
    "\n",
    "# Convert sparse matrix to dense format\n",
    "X_dense = X.toarray()\n",
    "\n",
    "# Create DataFrame from dense matrix\n",
    "df_ = pd.DataFrame(X_dense)\n",
    "\n",
    "print(df_.head())\n",
    "\n"
   ]
  },
  {
   "cell_type": "code",
   "execution_count": 15,
   "id": "f5161550",
   "metadata": {},
   "outputs": [
    {
     "name": "stdout",
     "output_type": "stream",
     "text": [
      "(8534, 33)\n"
     ]
    },
    {
     "data": {
      "text/plain": [
       "(2134, 33)"
      ]
     },
     "execution_count": 15,
     "metadata": {},
     "output_type": "execute_result"
    }
   ],
   "source": [
    "from sklearn.model_selection import train_test_split\n",
    "X_train, X_test, Y_train, Y_test = train_test_split(X, Y, test_size=0.2, random_state=42)\n",
    "print(X_train.shape)\n",
    "X_test.shape"
   ]
  },
  {
   "cell_type": "code",
   "execution_count": 16,
   "id": "117ebb83",
   "metadata": {},
   "outputs": [],
   "source": [
    "#Feature Selection\n",
    "from sklearn.feature_selection import SelectKBest, f_regression"
   ]
  },
  {
   "cell_type": "code",
   "execution_count": 17,
   "id": "f281d5b9",
   "metadata": {},
   "outputs": [],
   "source": [
    "# Initialize SelectKBest with the desired number of features\n",
    "feature_selection = SelectKBest(score_func=f_regression, k=20)"
   ]
  },
  {
   "cell_type": "code",
   "execution_count": 18,
   "id": "2ed99290",
   "metadata": {},
   "outputs": [
    {
     "name": "stderr",
     "output_type": "stream",
     "text": [
      "D:\\anaconda\\lib\\site-packages\\sklearn\\utils\\validation.py:993: DataConversionWarning: A column-vector y was passed when a 1d array was expected. Please change the shape of y to (n_samples, ), for example using ravel().\n",
      "  y = column_or_1d(y, warn=True)\n",
      "D:\\anaconda\\lib\\site-packages\\sklearn\\feature_selection\\_univariate_selection.py:289: RuntimeWarning: invalid value encountered in true_divide\n",
      "  correlation_coefficient /= X_norms\n"
     ]
    }
   ],
   "source": [
    "# Fit the selector to the training data and transform the features\n",
    "X_train_selected = feature_selection.fit_transform(X_train, Y_train)\n",
    "X_test_selected = feature_selection.transform(X_test)\n"
   ]
  },
  {
   "cell_type": "code",
   "execution_count": 19,
   "id": "601feb39",
   "metadata": {},
   "outputs": [],
   "source": [
    "#Feature Scaling\n",
    "from sklearn.preprocessing import RobustScaler\n",
    "scaler = RobustScaler(with_centering=False)"
   ]
  },
  {
   "cell_type": "code",
   "execution_count": 20,
   "id": "378a2f87",
   "metadata": {},
   "outputs": [],
   "source": [
    "X_train_scaled = scaler.fit_transform(X_train_selected)\n",
    "X_test_scaled = scaler.transform(X_test_selected)"
   ]
  },
  {
   "cell_type": "code",
   "execution_count": 21,
   "id": "5035a180",
   "metadata": {},
   "outputs": [
    {
     "name": "stdout",
     "output_type": "stream",
     "text": [
      "[[ 7522.13631306]\n",
      " [22726.26914607]\n",
      " [28156.40847319]\n",
      " ...\n",
      " [16913.12196557]\n",
      " [22871.62252559]\n",
      " [11341.75312965]]\n"
     ]
    }
   ],
   "source": [
    "#Linear Regression Model\n",
    "from sklearn.linear_model import LinearRegression\n",
    "LR = LinearRegression()\n",
    "LR.fit(X_train_scaled, Y_train)\n",
    "lr_pred = LR.predict(X_test_scaled)\n",
    "print(lr_pred)"
   ]
  },
  {
   "cell_type": "code",
   "execution_count": 22,
   "id": "6c3ae150",
   "metadata": {},
   "outputs": [
    {
     "name": "stdout",
     "output_type": "stream",
     "text": [
      "R2 Score  0.8789016487060037\n",
      "Mean Absolute Error 2780.1730532815714\n",
      "Cross-Validation R2 Scores: [0.85832025 0.86337982 0.87362205 0.85862242 0.87278844]\n",
      "Mean Cross-Validation R2 Score: 0.8653465958571909\n"
     ]
    }
   ],
   "source": [
    "from sklearn.metrics import r2_score,mean_absolute_error\n",
    "from sklearn.model_selection import cross_val_score\n",
    "print  ('R2 Score ', r2_score(Y_test, lr_pred))\n",
    "print  ('Mean Absolute Error', mean_absolute_error(Y_test,lr_pred))\n",
    "cv_scores = cross_val_score(LR, X_train_scaled, Y_train, cv=5, scoring='r2')\n",
    "print(\"Cross-Validation R2 Scores:\", cv_scores)\n",
    "print(\"Mean Cross-Validation R2 Score:\", np.mean(cv_scores))"
   ]
  },
  {
   "cell_type": "code",
   "execution_count": 23,
   "id": "a61fcd6f",
   "metadata": {},
   "outputs": [
    {
     "name": "stdout",
     "output_type": "stream",
     "text": [
      "Mean Squared Error: 18301533.160283048\n"
     ]
    }
   ],
   "source": [
    "# Evaluate the model\n",
    "from sklearn.metrics import mean_squared_error\n",
    "mse = mean_squared_error(Y_test, lr_pred)\n",
    "print(\"Mean Squared Error:\", mse)"
   ]
  },
  {
   "cell_type": "code",
   "execution_count": 24,
   "id": "ae53c494",
   "metadata": {},
   "outputs": [
    {
     "name": "stderr",
     "output_type": "stream",
     "text": [
      "C:\\Users\\prash\\AppData\\Local\\Temp\\ipykernel_20288\\1160649034.py:4: DataConversionWarning: A column-vector y was passed when a 1d array was expected. Please change the shape of y to (n_samples,), for example using ravel().\n",
      "  RF.fit(X_train_scaled, Y_train)\n"
     ]
    },
    {
     "data": {
      "text/plain": [
       "RandomForestRegressor()"
      ]
     },
     "execution_count": 24,
     "metadata": {},
     "output_type": "execute_result"
    }
   ],
   "source": [
    "#RandomForest\n",
    "from sklearn.ensemble import RandomForestRegressor\n",
    "RF = RandomForestRegressor()\n",
    "RF.fit(X_train_scaled, Y_train)"
   ]
  },
  {
   "cell_type": "code",
   "execution_count": 26,
   "id": "ee555224",
   "metadata": {},
   "outputs": [
    {
     "data": {
      "text/plain": [
       "array([ 9112.59, 20657.36, 29615.16, ..., 16360.2 , 20421.42, 11103.23])"
      ]
     },
     "metadata": {},
     "output_type": "display_data"
    }
   ],
   "source": [
    "rf_pred = RF.predict(X_test_scaled)\n",
    "display (rf_pred)"
   ]
  },
  {
   "cell_type": "code",
   "execution_count": 32,
   "id": "f74e60b7",
   "metadata": {},
   "outputs": [
    {
     "name": "stdout",
     "output_type": "stream",
     "text": [
      "R2 Score  0.9638908197412861\n",
      "Mean Absolute Error 1567.0713832658544\n",
      "Cross-Validation R2 Scores: [0.94968031 0.95189018 0.95798911 0.95521779 0.95744802]\n",
      "Mean Cross-Validation R2 Score: 0.9544450818078805\n"
     ]
    }
   ],
   "source": [
    "import warnings\n",
    "warnings.filterwarnings('ignore')\n",
    "print  ('R2 Score ', r2_score(Y_test, rf_pred))\n",
    "print  ('Mean Absolute Error', mean_absolute_error(Y_test,rf_pred))\n",
    "cv_scores = cross_val_score(RF, X_train_scaled, Y_train, cv=5, scoring='r2')\n",
    "print(\"Cross-Validation R2 Scores:\", cv_scores)\n",
    "print(\"Mean Cross-Validation R2 Score:\", np.mean(cv_scores))\n"
   ]
  },
  {
   "cell_type": "code",
   "execution_count": 28,
   "id": "12fdf2f6",
   "metadata": {},
   "outputs": [
    {
     "name": "stderr",
     "output_type": "stream",
     "text": [
      "D:\\anaconda\\lib\\site-packages\\sklearn\\utils\\validation.py:993: DataConversionWarning: A column-vector y was passed when a 1d array was expected. Please change the shape of y to (n_samples, ), for example using ravel().\n",
      "  y = column_or_1d(y, warn=True)\n"
     ]
    }
   ],
   "source": [
    "#SVM model\n",
    "from sklearn.svm import SVR\n",
    "SVM = SVR()\n",
    "SVM.fit(X_train_scaled, Y_train)\n",
    "svm_pred = SVM.predict(X_test_scaled)"
   ]
  },
  {
   "cell_type": "code",
   "execution_count": 31,
   "id": "e6499ccb",
   "metadata": {},
   "outputs": [
    {
     "name": "stdout",
     "output_type": "stream",
     "text": [
      "R2 Score  -0.058403878838533485\n",
      "Mean Absolute Error 8398.199358708885\n",
      "Cross-Validation R2 Scores: [-0.03729541 -0.08496447 -0.05301893 -0.03044759 -0.05223638]\n",
      "Mean Cross-Validation R2 Score: -0.051592555314236364\n"
     ]
    }
   ],
   "source": [
    "import warnings\n",
    "warnings.filterwarnings('ignore')\n",
    "print  ('R2 Score ', r2_score(Y_test, svm_pred))\n",
    "print  ('Mean Absolute Error', mean_absolute_error(Y_test,svm_pred))\n",
    "cv_scores = cross_val_score(SVM, X_train_scaled, Y_train, cv=5, scoring='r2')\n",
    "print(\"Cross-Validation R2 Scores:\", cv_scores)\n",
    "print(\"Mean Cross-Validation R2 Score:\", np.mean(cv_scores))"
   ]
  },
  {
   "cell_type": "code",
   "execution_count": 33,
   "id": "77f7e31f",
   "metadata": {},
   "outputs": [],
   "source": [
    "#GradientBoostingRegressor\n",
    "from sklearn.ensemble import GradientBoostingRegressor\n",
    "gbm = GradientBoostingRegressor()\n",
    "gbm.fit(X_train_scaled, Y_train)\n",
    "gbm_pred = gbm.predict(X_test_scaled)"
   ]
  },
  {
   "cell_type": "code",
   "execution_count": 34,
   "id": "96cd546d",
   "metadata": {},
   "outputs": [
    {
     "name": "stdout",
     "output_type": "stream",
     "text": [
      "R2 Score  0.9452743039096683\n",
      "Mean Absolute Error 2036.5670921082076\n",
      "Cross-Validation R2 Scores: [0.92867406 0.93809056 0.93928176 0.92931386 0.93628544]\n",
      "Mean Cross-Validation R2 Score: 0.9343291377146974\n"
     ]
    }
   ],
   "source": [
    "import warnings\n",
    "warnings.filterwarnings('ignore')\n",
    "print  ('R2 Score ', r2_score(Y_test, gbm_pred))\n",
    "print  ('Mean Absolute Error', mean_absolute_error(Y_test,gbm_pred))\n",
    "cv_scores = cross_val_score(gbm, X_train_scaled, Y_train, cv=5, scoring='r2')\n",
    "print(\"Cross-Validation R2 Scores:\", cv_scores)\n",
    "print(\"Mean Cross-Validation R2 Score:\", np.mean(cv_scores))"
   ]
  },
  {
   "cell_type": "code",
   "execution_count": 35,
   "id": "d3fa7a05",
   "metadata": {},
   "outputs": [],
   "source": [
    "# Bayesian Regression\n",
    "from sklearn.linear_model import BayesianRidge\n",
    "bayesian_model = BayesianRidge()\n",
    "bayesian_model.fit(X_train_scaled.toarray(), Y_train)\n",
    "bayesian_pred = bayesian_model.predict(X_test_scaled)"
   ]
  },
  {
   "cell_type": "code",
   "execution_count": 36,
   "id": "11e3f870",
   "metadata": {},
   "outputs": [
    {
     "name": "stdout",
     "output_type": "stream",
     "text": [
      "R2 Score  0.8788949063079273\n",
      "Mean Absolute Error 2780.2215780682727\n",
      "Cross-Validation R2 Scores: [nan nan nan nan nan]\n",
      "Mean Cross-Validation R2 Score: nan\n"
     ]
    }
   ],
   "source": [
    "import warnings\n",
    "warnings.filterwarnings('ignore')\n",
    "print  ('R2 Score ', r2_score(Y_test, bayesian_pred))\n",
    "print  ('Mean Absolute Error', mean_absolute_error(Y_test,bayesian_pred))\n",
    "cv_scores = cross_val_score(bayesian_model, X_train_scaled, Y_train, cv=5, scoring='r2')\n",
    "print(\"Cross-Validation R2 Scores:\", cv_scores)\n",
    "print(\"Mean Cross-Validation R2 Score:\", np.mean(cv_scores))"
   ]
  },
  {
   "cell_type": "code",
   "execution_count": null,
   "id": "c24cae6f",
   "metadata": {},
   "outputs": [],
   "source": [
    "!pip install xgboost"
   ]
  },
  {
   "cell_type": "code",
   "execution_count": 37,
   "id": "3aa89a05",
   "metadata": {},
   "outputs": [],
   "source": [
    "#XG boost\n",
    "import xgboost as xgb\n",
    "xgb_model = xgb.XGBRegressor()\n",
    "xgb_model.fit(X_train_scaled, Y_train)\n",
    "xgb_pred = xgb_model.predict(X_test_scaled)"
   ]
  },
  {
   "cell_type": "code",
   "execution_count": 38,
   "id": "73c6531e",
   "metadata": {},
   "outputs": [
    {
     "name": "stdout",
     "output_type": "stream",
     "text": [
      "R2 Score  0.9587127462583324\n",
      "Mean Absolute Error 1618.519183915915\n",
      "Cross-Validation R2 Scores: [0.95533221 0.94555874 0.96164303 0.95600647 0.95765951]\n",
      "Mean Cross-Validation R2 Score: 0.9552399917497401\n"
     ]
    }
   ],
   "source": [
    "import warnings\n",
    "warnings.filterwarnings('ignore')\n",
    "print  ('R2 Score ', r2_score(Y_test, xgb_pred))\n",
    "print  ('Mean Absolute Error', mean_absolute_error(Y_test,xgb_pred))\n",
    "cv_scores = cross_val_score(xgb_model, X_train_scaled, Y_train, cv=5, scoring='r2')\n",
    "print(\"Cross-Validation R2 Scores:\", cv_scores)\n",
    "print(\"Mean Cross-Validation R2 Score:\", np.mean(cv_scores))"
   ]
  },
  {
   "cell_type": "code",
   "execution_count": 46,
   "id": "1a18b828",
   "metadata": {},
   "outputs": [],
   "source": [
    "#hyperparameter tuning through RandomizedSearchCV, can be done through GridSearchCV but too slow for me\n",
    "from sklearn.model_selection import RandomizedSearchCV\n",
    "n_estimators = [int(x) for x in np.linspace(start = 80, stop = 1500, num = 10)]\n",
    "max_features = ['auto', 'sqrt']\n",
    "max_depth = [int(x) for x in np.linspace(6, 45, num = 5)]\n",
    "min_samples_split = [2, 20, 100]\n",
    "min_samples_leaf = [1, 5, 10]\n"
   ]
  },
  {
   "cell_type": "code",
   "execution_count": 47,
   "id": "9bcfeaf0",
   "metadata": {},
   "outputs": [],
   "source": [
    "rand_grid={'n_estimators': n_estimators,\n",
    "               'max_features': max_features,\n",
    "               'max_depth': max_depth,\n",
    "               'min_samples_split': min_samples_split,\n",
    "               'min_samples_leaf': min_samples_leaf}\n"
   ]
  },
  {
   "cell_type": "code",
   "execution_count": 48,
   "id": "e149a2ce",
   "metadata": {},
   "outputs": [],
   "source": [
    "rCV=RandomizedSearchCV(estimator=RF,param_distributions=rand_grid,scoring='neg_mean_squared_error',n_iter=3,cv=3,random_state=42, n_jobs = -1)\n"
   ]
  },
  {
   "cell_type": "code",
   "execution_count": 50,
   "id": "1f690cc1",
   "metadata": {
    "scrolled": true
   },
   "outputs": [
    {
     "data": {
      "text/plain": [
       "RandomizedSearchCV(cv=3, estimator=RandomForestRegressor(), n_iter=3, n_jobs=-1,\n",
       "                   param_distributions={'max_depth': [6, 15, 25, 35, 45],\n",
       "                                        'max_features': ['auto', 'sqrt'],\n",
       "                                        'min_samples_leaf': [1, 2, 5, 10],\n",
       "                                        'min_samples_split': [2, 5, 10, 15,\n",
       "                                                              100],\n",
       "                                        'n_estimators': [80, 237, 395, 553, 711,\n",
       "                                                         868, 1026, 1184, 1342,\n",
       "                                                         1500]},\n",
       "                   random_state=42, scoring='neg_mean_squared_error')"
      ]
     },
     "metadata": {},
     "output_type": "display_data"
    }
   ],
   "source": [
    "display (rCV.fit(X_train_scaled,Y_train))"
   ]
  },
  {
   "cell_type": "code",
   "execution_count": 51,
   "id": "b7a5b920",
   "metadata": {},
   "outputs": [
    {
     "data": {
      "text/plain": [
       "array([ 8830.55261815, 21521.6199256 , 29494.99797303, ...,\n",
       "       16228.7561756 , 21097.80883929, 11008.86753968])"
      ]
     },
     "metadata": {},
     "output_type": "display_data"
    }
   ],
   "source": [
    "rf_pred=rCV.predict(X_test_scaled)\n",
    "display (rf_pred)\n"
   ]
  },
  {
   "cell_type": "code",
   "execution_count": 53,
   "id": "325a9c30",
   "metadata": {},
   "outputs": [
    {
     "name": "stdout",
     "output_type": "stream",
     "text": [
      "R2 Score  0.964317227276414\n",
      "Mean Absolute Error 1567.9372303021978\n"
     ]
    }
   ],
   "source": [
    "print  ('R2 Score ', r2_score(Y_test, rf_pred))\n",
    "print  ('Mean Absolute Error', mean_absolute_error(Y_test,rf_pred))"
   ]
  },
  {
   "cell_type": "code",
   "execution_count": 55,
   "id": "d64a3d91",
   "metadata": {},
   "outputs": [
    {
     "name": "stdout",
     "output_type": "stream",
     "text": [
      "[21260.67280754 13290.5862252  30085.94798115 ... 24856.09710363\n",
      " 21234.31422348 22863.91745536]\n"
     ]
    }
   ],
   "source": [
    "import pickle \n",
    "pickle.dump(rCV, open('Car_price.pkl','wb'))\n",
    " \n",
    "model=pickle.load(open('Car_price.pkl','rb'))\n",
    "print (model.predict (X_train_scaled))"
   ]
  },
  {
   "cell_type": "code",
   "execution_count": null,
   "id": "2f3d1228",
   "metadata": {},
   "outputs": [],
   "source": []
  }
 ],
 "metadata": {
  "kernelspec": {
   "display_name": "Python 3 (ipykernel)",
   "language": "python",
   "name": "python3"
  },
  "language_info": {
   "codemirror_mode": {
    "name": "ipython",
    "version": 3
   },
   "file_extension": ".py",
   "mimetype": "text/x-python",
   "name": "python",
   "nbconvert_exporter": "python",
   "pygments_lexer": "ipython3",
   "version": "3.9.12"
  }
 },
 "nbformat": 4,
 "nbformat_minor": 5
}
